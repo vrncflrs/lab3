{
 "cells": [
  {
   "cell_type": "markdown",
   "metadata": {},
   "source": [
    "**182016**\n",
    "<br>\n",
    "Flores\n",
    "<br>\n",
    "3 BS ITE"
   ]
  },
  {
   "cell_type": "markdown",
   "metadata": {},
   "source": [
    "# Problem 1\n",
    "In a prototype of a new in-campus mobile app, there is social media support similar to what's seen on Facebook, Instagram and Spotify. Students and Faculty belong to the same social graph. Any student or teacher can follow other members of the app community. If two members follow each other, they are considered friends."
   ]
  },
  {
   "cell_type": "code",
   "execution_count": 1,
   "metadata": {},
   "outputs": [],
   "source": [
    "social_graph = {\n",
    "    \"@bongolpoc\":{\"first_name\":\"Joselito\",\n",
    "                  \"last_name\":\"Olpoc\",\n",
    "                  \"following\":[\n",
    "                  ]\n",
    "    },\n",
    "    \"@joaquin\":  {\"first_name\":\"Joaquin\",\n",
    "                  \"last_name\":\"Gonzales\",\n",
    "                  \"following\":[\n",
    "                      \"@chums\",\"@jobenilagan\"\n",
    "                  ]\n",
    "    },\n",
    "    \"@chums\" : {\"first_name\":\"Matthew\",\n",
    "                \"last_name\":\"Uy\",\n",
    "                \"following\":[\n",
    "                    \"@bongolpoc\",\"@miketan\",\"@rudyang\",\"@joeilagan\"\n",
    "                ]\n",
    "    },\n",
    "    \"@jobenilagan\":{\"first_name\":\"Joben\",\n",
    "                   \"last_name\":\"Ilagan\",\n",
    "                   \"following\":[\n",
    "                    \"@eeebeee\",\"@joeilagan\",\"@chums\",\"@joaquin\"\n",
    "                   ]\n",
    "    },\n",
    "    \"@joeilagan\":{\"first_name\":\"Joe\",\n",
    "                  \"last_name\":\"Ilagan\",\n",
    "                  \"following\":[\n",
    "                    \"@eeebeee\",\"@jobenilagan\",\"@chums\"\n",
    "                  ]\n",
    "    },\n",
    "    \"@eeebeee\":  {\"first_name\":\"Elizabeth\",\n",
    "                  \"last_name\":\"Ilagan\",\n",
    "                  \"following\":[\n",
    "                    \"@jobenilagan\",\"@joeilagan\"\n",
    "                  ]\n",
    "    },\n",
    "}\n"
   ]
  },
  {
   "cell_type": "code",
   "execution_count": 2,
   "metadata": {},
   "outputs": [],
   "source": [
    "def relationship_status(from_member,to_member):\n",
    "    if from_member in social_graph[to_member]['following'] and to_member in social_graph[from_member]['following']:\n",
    "        print('yay ! friendsicles')\n",
    "    elif from_member in social_graph[to_member]['following']:\n",
    "        print('follows')\n",
    "    elif to_member in social_graph[from_member]['following']:\n",
    "        print('followed by')\n",
    "    else:\n",
    "        #print('crickets')\n",
    "        return None\n",
    "\n",
    "relationship_status('@jobenilagan','@bongolpoc')"
   ]
  },
  {
   "cell_type": "markdown",
   "metadata": {},
   "source": [
    "# Problem 2\n",
    "\n",
    "Write code that checks a possible winner for the current state of a 3x3 tic-tac-toe board."
   ]
  },
  {
   "cell_type": "code",
   "execution_count": 87,
   "metadata": {},
   "outputs": [],
   "source": [
    "board1 = [\n",
    "['X','X','O'],\n",
    "['O','X','O'],\n",
    "['O','','X'],\n",
    "]\n",
    "\n",
    "board2 = [\n",
    "['X','X','O'],\n",
    "['O','X','O'],\n",
    "['','O','X'],\n",
    "]\n",
    "\n",
    "board3 = [\n",
    "['O','X','O'],\n",
    "['','O','X'],\n",
    "['X','X','O'],\n",
    "]\n",
    "\n",
    "board4 = [\n",
    "['X','X','X'],\n",
    "['O','X','O'],\n",
    "['O','','O'],\n",
    "]\n",
    "\n",
    "board5 = [\n",
    "['X','X','O'],\n",
    "['O','X','O'],\n",
    "['X','','O'],\n",
    "]\n",
    "\n",
    "board6 = [\n",
    "['X','X','O'],\n",
    "['O','X','O'],\n",
    "['X','',''],\n",
    "]\n"
   ]
  },
  {
   "cell_type": "code",
   "execution_count": 117,
   "metadata": {},
   "outputs": [
    {
     "name": "stdout",
     "output_type": "stream",
     "text": [
      "check a board\n",
      "\n",
      "1: board1\n",
      "2: board2\n",
      "3: board3\n",
      "4: board4\n",
      "5: board5\n",
      "6: board6\n",
      "\n",
      "choose a board (input corresponding number): 1\n",
      "['X', 'X', 'O']\n",
      "['O', 'X', 'O']\n",
      "['O', '', 'X']\n",
      "winner X\n"
     ]
    }
   ],
   "source": [
    "boards = {1:board1,\n",
    "          2:board2,\n",
    "          3:board3,\n",
    "          4:board4,\n",
    "          5:board5,\n",
    "          6:board6}\n",
    "\n",
    "\n",
    "def winnerchickendinner(boardchoice):\n",
    "    \n",
    "    for i in range(3):\n",
    "        print(boardchoice[i])\n",
    "        \n",
    "    #vertical\n",
    "    for i in range(3):\n",
    "        if boardchoice[i].count(boardchoice[i][1]) == 3:\n",
    "            print('winner',boardchoice[i][1])\n",
    "            break\n",
    "        else:\n",
    "            continue\n",
    "\n",
    "    #horizontal\n",
    "    horizy = [i for i in zip(*boardchoice)]\n",
    "    for i in range(3):\n",
    "        if horizy[i].count(horizy[i][1]) == 3:\n",
    "            print('winner',horizy[i][1])\n",
    "            break\n",
    "        else:\n",
    "            continue\n",
    "\n",
    "    #diagonals\n",
    "    backslash = [boardchoice[i][i] for i in range(3)]\n",
    "    fwdslash = [boardchoice[i][i] for i in range(3)]\n",
    "\n",
    "    if backslash.count(backslash[1]) == 3:\n",
    "        print('winner',backslash[1])\n",
    "\n",
    "    elif backslash.count(backslash[1]) == 3:\n",
    "        print('winner',backslash[1])\n",
    "        \n",
    "print('check a board')\n",
    "print()\n",
    "print('1: board1')\n",
    "print('2: board2')\n",
    "print('3: board3')\n",
    "print('4: board4')\n",
    "print('5: board5')\n",
    "print('6: board6')\n",
    "print()\n",
    "choice = int(input('choose a board (input corresponding number): '))\n",
    "\n",
    "winnerchickendinner(boards[choice])"
   ]
  },
  {
   "cell_type": "markdown",
   "metadata": {},
   "source": [
    "# Problem 3\n",
    "Write a function called eta that accepts the source and destination of the van and returns the estimated number of minutes to reach the destination"
   ]
  },
  {
   "cell_type": "code",
   "execution_count": 1,
   "metadata": {},
   "outputs": [],
   "source": [
    "locations = {\n",
    "    \"admu\":{\n",
    "        \"name\":\"Ateneo de Manila University\",\n",
    "        \"latitude\":14.6394557,\n",
    "        \"longitude\":121.0758975        \n",
    "    },\n",
    "    \"upd\":{\n",
    "        \"name\":\"University of the Philippines-Diliman Campus\",\n",
    "        \"latitude\":14.6538519,\n",
    "        \"longitude\":121.0663348\n",
    "    },\n",
    "    \"dlsu\":{\n",
    "        \"name\":\"De La Salle University-Taft\",\n",
    "        \"latitude\":14.5647346,\n",
    "        \"longitude\":120.9909876\n",
    "\n",
    "    }, # <-- Note that Python does not complain about this extra comma. This is perfectly okay.\n",
    "       #     The creators of Python saw that dictionaries tend to be changed a lot, so allowing this is a\n",
    "       #     convenience for developers who need to add elements when needed.\n",
    "}\n",
    "\n",
    "legs = {\n",
    "     (\"upd\",\"admu\"):{\n",
    "         \"travel_time_mins\":10\n",
    "     },\n",
    "     (\"admu\",\"dlsu\"):{\n",
    "         \"travel_time_mins\":35\n",
    "     },\n",
    "     (\"dlsu\",\"upd\"):{\n",
    "         \"travel_time_mins\":55\n",
    "     }\n",
    "}\n",
    "\n"
   ]
  },
  {
   "cell_type": "code",
   "execution_count": 13,
   "metadata": {},
   "outputs": [
    {
     "name": "stdout",
     "output_type": "stream",
     "text": [
      "55\n"
     ]
    }
   ],
   "source": [
    "def eta(source,destination):\n",
    "    \n",
    "    travel = 0\n",
    "    \n",
    "    if source == 'upd':\n",
    "        if destination == 'admu':\n",
    "            travel += [p['travel_time_mins'] for p in legs.values()][0]\n",
    "            print(travel)\n",
    "        elif destination == 'dlsu':\n",
    "            travel += [p['travel_time_mins'] for p in legs.values()][0]\n",
    "            travel += [p['travel_time_mins'] for p in legs.values()][1]\n",
    "            print(travel)\n",
    "        elif destination == 'upd':\n",
    "            travel += [p['travel_time_mins'] for p in legs.values()][0]\n",
    "            travel += [p['travel_time_mins'] for p in legs.values()][1]\n",
    "            travel += [p['travel_time_mins'] for p in legs.values()][2]\n",
    "            print(travel)\n",
    "\n",
    "    if source == 'admu':\n",
    "        if destination == 'dlsu':\n",
    "            travel += [p['travel_time_mins'] for p in legs.values()][1]\n",
    "            print(travel)\n",
    "        elif destination == 'upd':\n",
    "            travel += [p['travel_time_mins'] for p in legs.values()][1]\n",
    "            travel += [p['travel_time_mins'] for p in legs.values()][2]\n",
    "            print(travel)\n",
    "        elif destination == 'admu':\n",
    "            travel += [p['travel_time_mins'] for p in legs.values()][1]\n",
    "            travel += [p['travel_time_mins'] for p in legs.values()][2]\n",
    "            travel += [p['travel_time_mins'] for p in legs.values()][0]\n",
    "            print(travel)\n",
    "    \n",
    "    if source == 'dlsu':\n",
    "        if destination == 'upd':\n",
    "            travel += [p['travel_time_mins'] for p in legs.values()][2]\n",
    "            print(travel)\n",
    "        elif destination == 'admu':\n",
    "            travel += [p['travel_time_mins'] for p in legs.values()][2]\n",
    "            travel += [p['travel_time_mins'] for p in legs.values()][0]\n",
    "            print(travel)\n",
    "        elif destination == 'upd':\n",
    "            travel += [p['travel_time_mins'] for p in legs.values()][2]\n",
    "            travel += [p['travel_time_mins'] for p in legs.values()][0]\n",
    "            travel += [p['travel_time_mins'] for p in legs.values()][1]\n",
    "            print(travel)\n",
    "\n",
    "eta('dlsu','upd')"
   ]
  },
  {
   "cell_type": "markdown",
   "metadata": {},
   "source": [
    "Sincerest apologies for the extremely disappointing, cop-out answer, Sir. I left my solutions to my prior attempts below in case you could make sense of them. \n",
    "\n",
    "I made a list to reference and to use as basis for the path (upd > admu > dlsu). I tried to increment to the indices of (source, adjacent) until adjacent was equal to the destination but I could not figure out how to restart the index once it got to 3 (since 3 is out of range already)."
   ]
  },
  {
   "cell_type": "code",
   "execution_count": 10,
   "metadata": {},
   "outputs": [
    {
     "name": "stdout",
     "output_type": "stream",
     "text": [
      "55\n",
      "65\n"
     ]
    },
    {
     "ename": "IndexError",
     "evalue": "list index out of range",
     "output_type": "error",
     "traceback": [
      "\u001b[0;31m---------------------------------------------------------------------------\u001b[0m",
      "\u001b[0;31mIndexError\u001b[0m                                Traceback (most recent call last)",
      "\u001b[0;32m<ipython-input-10-bb5514b9a02c>\u001b[0m in \u001b[0;36m<module>\u001b[0;34m\u001b[0m\n\u001b[1;32m     13\u001b[0m     \u001b[0mprint\u001b[0m\u001b[0;34m(\u001b[0m\u001b[0mtravel\u001b[0m\u001b[0;34m)\u001b[0m\u001b[0;34m\u001b[0m\u001b[0;34m\u001b[0m\u001b[0m\n\u001b[1;32m     14\u001b[0m \u001b[0;34m\u001b[0m\u001b[0m\n\u001b[0;32m---> 15\u001b[0;31m \u001b[0;32mif\u001b[0m \u001b[0mlocations\u001b[0m\u001b[0;34m[\u001b[0m\u001b[0mlocations\u001b[0m\u001b[0;34m.\u001b[0m\u001b[0mindex\u001b[0m\u001b[0;34m(\u001b[0m\u001b[0msource\u001b[0m\u001b[0;34m)\u001b[0m\u001b[0;34m+\u001b[0m\u001b[0;36m1\u001b[0m\u001b[0;34m]\u001b[0m \u001b[0;34m!=\u001b[0m \u001b[0mdestination\u001b[0m\u001b[0;34m:\u001b[0m\u001b[0;34m\u001b[0m\u001b[0;34m\u001b[0m\u001b[0m\n\u001b[0m\u001b[1;32m     16\u001b[0m     \u001b[0mtravel\u001b[0m \u001b[0;34m+=\u001b[0m \u001b[0;34m[\u001b[0m\u001b[0mp\u001b[0m\u001b[0;34m[\u001b[0m\u001b[0;34m'travel_time_mins'\u001b[0m\u001b[0;34m]\u001b[0m \u001b[0;32mfor\u001b[0m \u001b[0mp\u001b[0m \u001b[0;32min\u001b[0m \u001b[0mlegs\u001b[0m\u001b[0;34m.\u001b[0m\u001b[0mvalues\u001b[0m\u001b[0;34m(\u001b[0m\u001b[0;34m)\u001b[0m\u001b[0;34m]\u001b[0m\u001b[0;34m[\u001b[0m\u001b[0mlocations\u001b[0m\u001b[0;34m.\u001b[0m\u001b[0mindex\u001b[0m\u001b[0;34m(\u001b[0m\u001b[0msource\u001b[0m\u001b[0;34m)\u001b[0m\u001b[0;34m+\u001b[0m\u001b[0;36m1\u001b[0m\u001b[0;34m]\u001b[0m\u001b[0;34m\u001b[0m\u001b[0;34m\u001b[0m\u001b[0m\n\u001b[1;32m     17\u001b[0m     \u001b[0mprint\u001b[0m\u001b[0;34m(\u001b[0m\u001b[0mtravel\u001b[0m\u001b[0;34m)\u001b[0m\u001b[0;34m\u001b[0m\u001b[0;34m\u001b[0m\u001b[0m\n",
      "\u001b[0;31mIndexError\u001b[0m: list index out of range"
     ]
    }
   ],
   "source": [
    "source = 'dlsu'\n",
    "destination = 'dlsu'\n",
    "\n",
    "locations = ['upd','admu','dlsu']\n",
    "\n",
    "travel = 0\n",
    "\n",
    "travel += [p['travel_time_mins'] for p in legs.values()][locations.index(source)]\n",
    "print(travel)\n",
    "\n",
    "if locations.index(source)+1 >= 3:\n",
    "    travel += [p['travel_time_mins'] for p in legs.values()][0]\n",
    "    print(travel)\n",
    "\n",
    "if locations[locations.index(source)+1] != destination:\n",
    "    travel += [p['travel_time_mins'] for p in legs.values()][locations.index(source)+1]\n",
    "    print(travel)\n",
    "\n",
    "    \n",
    "\n",
    "#[p['travel_time_mins'] for p in legs.values()][locations.index(source)+i]"
   ]
  },
  {
   "cell_type": "code",
   "execution_count": 121,
   "metadata": {},
   "outputs": [
    {
     "data": {
      "text/plain": [
       "10"
      ]
     },
     "execution_count": 121,
     "metadata": {},
     "output_type": "execute_result"
    }
   ],
   "source": [
    "def trial(source,destination):\n",
    "    trip = (source,destination)\n",
    "    \n",
    "    return legs[trip]['travel_time_mins']\n",
    "\n",
    "trial('upd','admu')"
   ]
  },
  {
   "cell_type": "code",
   "execution_count": 150,
   "metadata": {},
   "outputs": [
    {
     "name": "stdout",
     "output_type": "stream",
     "text": [
      "toinks\n"
     ]
    }
   ],
   "source": [
    "destinations = [\"upd\", \"admu\", \"taft\"]\n",
    "#a = (destinations[destinations.index(\"admu\")],destinations[destinations.index(\"admu\")])\n",
    "\n",
    "trip = ('upd','taft')\n",
    "\n",
    "check = trip[0],destinations[destinations.index(trip[0])+1]\n",
    "\n",
    "if trip == check:\n",
    "    print('ye')\n",
    "else:\n",
    "    print('toinks')"
   ]
  },
  {
   "cell_type": "code",
   "execution_count": 188,
   "metadata": {},
   "outputs": [
    {
     "name": "stdout",
     "output_type": "stream",
     "text": [
      "('admu', 'admu')\n",
      "('admu', 'dlsu')\n",
      "ye\n",
      "('admu', 'dlsu')\n",
      "35\n"
     ]
    }
   ],
   "source": [
    "def trial(source,destination):\n",
    "    \n",
    "    destinations = ['upd', 'admu', 'dlsu'] #for indexing\n",
    "    trip = (source,destination) #turn locations into tuple\n",
    "    print(trip)\n",
    "    check = (trip[0],destinations[destinations.index(trip[0])+1]) #check trip: adjacent locations\n",
    "    \n",
    "    print(check)\n",
    "    if trip != check:\n",
    "        print('ye')\n",
    "        \n",
    "        i = 1\n",
    "        traveltime = 0\n",
    "        \n",
    "        tripcomp = (destinations[destinations.index(trip[0+i-1])],destinations[destinations.index(trip[0+i-1])+i])\n",
    "        print(tripcomp)\n",
    "        while tripcomp[1] != trip[1]:\n",
    "            traveltime += legs[tripcomp]['travel_time_mins']\n",
    "            print(traveltime)\n",
    "            i +=1\n",
    "    \n",
    "    else:\n",
    "        print('na')\n",
    "\n",
    "trial('admu','admu')"
   ]
  },
  {
   "cell_type": "code",
   "execution_count": 156,
   "metadata": {},
   "outputs": [
    {
     "data": {
      "text/plain": [
       "'source'"
      ]
     },
     "execution_count": 156,
     "metadata": {},
     "output_type": "execute_result"
    }
   ],
   "source": [
    "trip = ('source','destination')\n",
    "trip[0]"
   ]
  },
  {
   "cell_type": "code",
   "execution_count": 165,
   "metadata": {},
   "outputs": [
    {
     "name": "stdout",
     "output_type": "stream",
     "text": [
      "0\n",
      "35\n"
     ]
    }
   ],
   "source": [
    "travel = 0\n",
    "print(travel)\n",
    "travel += legs[('admu','dlsu')]['travel_time_mins']\n",
    "print(travel)"
   ]
  },
  {
   "cell_type": "code",
   "execution_count": 187,
   "metadata": {},
   "outputs": [
    {
     "data": {
      "text/plain": [
       "dict_keys([('upd', 'admu'), ('admu', 'dlsu'), ('dlsu', 'upd')])"
      ]
     },
     "execution_count": 187,
     "metadata": {},
     "output_type": "execute_result"
    }
   ],
   "source": [
    "legs.keys()"
   ]
  },
  {
   "cell_type": "code",
   "execution_count": 221,
   "metadata": {},
   "outputs": [
    {
     "name": "stdout",
     "output_type": "stream",
     "text": [
      "('upd', 'admu')\n",
      "not same\n",
      "('upd', 'admu')\n"
     ]
    }
   ],
   "source": [
    "source = 'upd'\n",
    "destination = 'upd'\n",
    "\n",
    "destinations = ['upd', 'admu', 'dlsu'] #for indexing\n",
    "#trip = (source,destination) #turn locations into tuple\n",
    "#print(trip)\n",
    "check = (source,destinations[destinations.index(source)+1]) #check trip: adjacent locations\n",
    "    \n",
    "print(check)\n",
    "if (source,destination) != check:\n",
    "    print('not same')\n",
    "        \n",
    "    i = 0\n",
    "    traveltime = 0\n",
    "        \n",
    "    tripcomp = (destinations[destinations.index(source)+i],destinations[destinations.index(source)+i+1])\n",
    "    print(tripcomp)"
   ]
  },
  {
   "cell_type": "code",
   "execution_count": 216,
   "metadata": {},
   "outputs": [
    {
     "name": "stdout",
     "output_type": "stream",
     "text": [
      "[10, 35, 55]\n"
     ]
    }
   ],
   "source": [
    "print([p['travel_time_mins'] for p in legs.values()])"
   ]
  }
 ],
 "metadata": {
  "kernelspec": {
   "display_name": "Python 3",
   "language": "python",
   "name": "python3"
  },
  "language_info": {
   "codemirror_mode": {
    "name": "ipython",
    "version": 3
   },
   "file_extension": ".py",
   "mimetype": "text/x-python",
   "name": "python",
   "nbconvert_exporter": "python",
   "pygments_lexer": "ipython3",
   "version": "3.8.3"
  }
 },
 "nbformat": 4,
 "nbformat_minor": 4
}
